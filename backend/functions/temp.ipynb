{
 "cells": [
  {
   "cell_type": "code",
   "execution_count": 1,
   "metadata": {},
   "outputs": [],
   "source": [
    "from pycaret.regression import RegressionExperiment\n",
    "from pycaret.classification import ClassificationExperiment\n",
    "import pandas as pd\n",
    "from tqdm import tqdm"
   ]
  },
  {
   "cell_type": "code",
   "execution_count": 2,
   "metadata": {},
   "outputs": [],
   "source": [
    "data = pd.read_csv('../Datasets/adult.csv')\n",
    "target_column = 'income'\n",
    "model_name = 'adult'\n",
    "exp = ClassificationExperiment()"
   ]
  },
  {
   "cell_type": "code",
   "execution_count": 3,
   "metadata": {},
   "outputs": [
    {
     "data": {
      "text/html": [
       "<style type=\"text/css\">\n",
       "#T_8153b_row11_col1 {\n",
       "  background-color: lightgreen;\n",
       "}\n",
       "</style>\n",
       "<table id=\"T_8153b\">\n",
       "  <thead>\n",
       "    <tr>\n",
       "      <th class=\"blank level0\" >&nbsp;</th>\n",
       "      <th id=\"T_8153b_level0_col0\" class=\"col_heading level0 col0\" >Description</th>\n",
       "      <th id=\"T_8153b_level0_col1\" class=\"col_heading level0 col1\" >Value</th>\n",
       "    </tr>\n",
       "  </thead>\n",
       "  <tbody>\n",
       "    <tr>\n",
       "      <th id=\"T_8153b_level0_row0\" class=\"row_heading level0 row0\" >0</th>\n",
       "      <td id=\"T_8153b_row0_col0\" class=\"data row0 col0\" >Session id</td>\n",
       "      <td id=\"T_8153b_row0_col1\" class=\"data row0 col1\" >123</td>\n",
       "    </tr>\n",
       "    <tr>\n",
       "      <th id=\"T_8153b_level0_row1\" class=\"row_heading level0 row1\" >1</th>\n",
       "      <td id=\"T_8153b_row1_col0\" class=\"data row1 col0\" >Target</td>\n",
       "      <td id=\"T_8153b_row1_col1\" class=\"data row1 col1\" >income</td>\n",
       "    </tr>\n",
       "    <tr>\n",
       "      <th id=\"T_8153b_level0_row2\" class=\"row_heading level0 row2\" >2</th>\n",
       "      <td id=\"T_8153b_row2_col0\" class=\"data row2 col0\" >Target type</td>\n",
       "      <td id=\"T_8153b_row2_col1\" class=\"data row2 col1\" >Binary</td>\n",
       "    </tr>\n",
       "    <tr>\n",
       "      <th id=\"T_8153b_level0_row3\" class=\"row_heading level0 row3\" >3</th>\n",
       "      <td id=\"T_8153b_row3_col0\" class=\"data row3 col0\" >Target mapping</td>\n",
       "      <td id=\"T_8153b_row3_col1\" class=\"data row3 col1\" ><=50K: 0, >50K: 1</td>\n",
       "    </tr>\n",
       "    <tr>\n",
       "      <th id=\"T_8153b_level0_row4\" class=\"row_heading level0 row4\" >4</th>\n",
       "      <td id=\"T_8153b_row4_col0\" class=\"data row4 col0\" >Original data shape</td>\n",
       "      <td id=\"T_8153b_row4_col1\" class=\"data row4 col1\" >(48842, 15)</td>\n",
       "    </tr>\n",
       "    <tr>\n",
       "      <th id=\"T_8153b_level0_row5\" class=\"row_heading level0 row5\" >5</th>\n",
       "      <td id=\"T_8153b_row5_col0\" class=\"data row5 col0\" >Transformed data shape</td>\n",
       "      <td id=\"T_8153b_row5_col1\" class=\"data row5 col1\" >(48842, 67)</td>\n",
       "    </tr>\n",
       "    <tr>\n",
       "      <th id=\"T_8153b_level0_row6\" class=\"row_heading level0 row6\" >6</th>\n",
       "      <td id=\"T_8153b_row6_col0\" class=\"data row6 col0\" >Transformed train set shape</td>\n",
       "      <td id=\"T_8153b_row6_col1\" class=\"data row6 col1\" >(34189, 67)</td>\n",
       "    </tr>\n",
       "    <tr>\n",
       "      <th id=\"T_8153b_level0_row7\" class=\"row_heading level0 row7\" >7</th>\n",
       "      <td id=\"T_8153b_row7_col0\" class=\"data row7 col0\" >Transformed test set shape</td>\n",
       "      <td id=\"T_8153b_row7_col1\" class=\"data row7 col1\" >(14653, 67)</td>\n",
       "    </tr>\n",
       "    <tr>\n",
       "      <th id=\"T_8153b_level0_row8\" class=\"row_heading level0 row8\" >8</th>\n",
       "      <td id=\"T_8153b_row8_col0\" class=\"data row8 col0\" >Ordinal features</td>\n",
       "      <td id=\"T_8153b_row8_col1\" class=\"data row8 col1\" >1</td>\n",
       "    </tr>\n",
       "    <tr>\n",
       "      <th id=\"T_8153b_level0_row9\" class=\"row_heading level0 row9\" >9</th>\n",
       "      <td id=\"T_8153b_row9_col0\" class=\"data row9 col0\" >Numeric features</td>\n",
       "      <td id=\"T_8153b_row9_col1\" class=\"data row9 col1\" >6</td>\n",
       "    </tr>\n",
       "    <tr>\n",
       "      <th id=\"T_8153b_level0_row10\" class=\"row_heading level0 row10\" >10</th>\n",
       "      <td id=\"T_8153b_row10_col0\" class=\"data row10 col0\" >Categorical features</td>\n",
       "      <td id=\"T_8153b_row10_col1\" class=\"data row10 col1\" >8</td>\n",
       "    </tr>\n",
       "    <tr>\n",
       "      <th id=\"T_8153b_level0_row11\" class=\"row_heading level0 row11\" >11</th>\n",
       "      <td id=\"T_8153b_row11_col0\" class=\"data row11 col0\" >Preprocess</td>\n",
       "      <td id=\"T_8153b_row11_col1\" class=\"data row11 col1\" >True</td>\n",
       "    </tr>\n",
       "    <tr>\n",
       "      <th id=\"T_8153b_level0_row12\" class=\"row_heading level0 row12\" >12</th>\n",
       "      <td id=\"T_8153b_row12_col0\" class=\"data row12 col0\" >Imputation type</td>\n",
       "      <td id=\"T_8153b_row12_col1\" class=\"data row12 col1\" >simple</td>\n",
       "    </tr>\n",
       "    <tr>\n",
       "      <th id=\"T_8153b_level0_row13\" class=\"row_heading level0 row13\" >13</th>\n",
       "      <td id=\"T_8153b_row13_col0\" class=\"data row13 col0\" >Numeric imputation</td>\n",
       "      <td id=\"T_8153b_row13_col1\" class=\"data row13 col1\" >mean</td>\n",
       "    </tr>\n",
       "    <tr>\n",
       "      <th id=\"T_8153b_level0_row14\" class=\"row_heading level0 row14\" >14</th>\n",
       "      <td id=\"T_8153b_row14_col0\" class=\"data row14 col0\" >Categorical imputation</td>\n",
       "      <td id=\"T_8153b_row14_col1\" class=\"data row14 col1\" >mode</td>\n",
       "    </tr>\n",
       "    <tr>\n",
       "      <th id=\"T_8153b_level0_row15\" class=\"row_heading level0 row15\" >15</th>\n",
       "      <td id=\"T_8153b_row15_col0\" class=\"data row15 col0\" >Maximum one-hot encoding</td>\n",
       "      <td id=\"T_8153b_row15_col1\" class=\"data row15 col1\" >25</td>\n",
       "    </tr>\n",
       "    <tr>\n",
       "      <th id=\"T_8153b_level0_row16\" class=\"row_heading level0 row16\" >16</th>\n",
       "      <td id=\"T_8153b_row16_col0\" class=\"data row16 col0\" >Encoding method</td>\n",
       "      <td id=\"T_8153b_row16_col1\" class=\"data row16 col1\" >None</td>\n",
       "    </tr>\n",
       "    <tr>\n",
       "      <th id=\"T_8153b_level0_row17\" class=\"row_heading level0 row17\" >17</th>\n",
       "      <td id=\"T_8153b_row17_col0\" class=\"data row17 col0\" >Fold Generator</td>\n",
       "      <td id=\"T_8153b_row17_col1\" class=\"data row17 col1\" >StratifiedKFold</td>\n",
       "    </tr>\n",
       "    <tr>\n",
       "      <th id=\"T_8153b_level0_row18\" class=\"row_heading level0 row18\" >18</th>\n",
       "      <td id=\"T_8153b_row18_col0\" class=\"data row18 col0\" >Fold Number</td>\n",
       "      <td id=\"T_8153b_row18_col1\" class=\"data row18 col1\" >10</td>\n",
       "    </tr>\n",
       "    <tr>\n",
       "      <th id=\"T_8153b_level0_row19\" class=\"row_heading level0 row19\" >19</th>\n",
       "      <td id=\"T_8153b_row19_col0\" class=\"data row19 col0\" >CPU Jobs</td>\n",
       "      <td id=\"T_8153b_row19_col1\" class=\"data row19 col1\" >-1</td>\n",
       "    </tr>\n",
       "    <tr>\n",
       "      <th id=\"T_8153b_level0_row20\" class=\"row_heading level0 row20\" >20</th>\n",
       "      <td id=\"T_8153b_row20_col0\" class=\"data row20 col0\" >Use GPU</td>\n",
       "      <td id=\"T_8153b_row20_col1\" class=\"data row20 col1\" >False</td>\n",
       "    </tr>\n",
       "    <tr>\n",
       "      <th id=\"T_8153b_level0_row21\" class=\"row_heading level0 row21\" >21</th>\n",
       "      <td id=\"T_8153b_row21_col0\" class=\"data row21 col0\" >Log Experiment</td>\n",
       "      <td id=\"T_8153b_row21_col1\" class=\"data row21 col1\" >False</td>\n",
       "    </tr>\n",
       "    <tr>\n",
       "      <th id=\"T_8153b_level0_row22\" class=\"row_heading level0 row22\" >22</th>\n",
       "      <td id=\"T_8153b_row22_col0\" class=\"data row22 col0\" >Experiment Name</td>\n",
       "      <td id=\"T_8153b_row22_col1\" class=\"data row22 col1\" >clf-default-name</td>\n",
       "    </tr>\n",
       "    <tr>\n",
       "      <th id=\"T_8153b_level0_row23\" class=\"row_heading level0 row23\" >23</th>\n",
       "      <td id=\"T_8153b_row23_col0\" class=\"data row23 col0\" >USI</td>\n",
       "      <td id=\"T_8153b_row23_col1\" class=\"data row23 col1\" >cd2b</td>\n",
       "    </tr>\n",
       "  </tbody>\n",
       "</table>\n"
      ],
      "text/plain": [
       "<pandas.io.formats.style.Styler at 0x7facc6301990>"
      ]
     },
     "metadata": {},
     "output_type": "display_data"
    },
    {
     "data": {
      "text/plain": [
       "<pycaret.classification.oop.ClassificationExperiment at 0x7fad252634c0>"
      ]
     },
     "execution_count": 3,
     "metadata": {},
     "output_type": "execute_result"
    }
   ],
   "source": [
    "exp.setup(data, target=target_column, session_id=123)"
   ]
  },
  {
   "cell_type": "code",
   "execution_count": 6,
   "metadata": {},
   "outputs": [
    {
     "name": "stdout",
     "output_type": "stream",
     "text": [
      "hello\n",
      "Pinged your deployment. You successfully connected to MongoDB!\n",
      "hello\n",
      "Description              Value\n",
      "hello\n",
      "0                    Session id                123\n",
      "hello\n",
      "1                        Target             income\n",
      "hello\n",
      "2                   Target type             Binary\n",
      "hello\n",
      "3                Target mapping  <=50K: 0, >50K: 1\n",
      "hello\n",
      "4           Original data shape        (48790, 15)\n",
      "hello\n",
      "5        Transformed data shape        (48790, 67)\n",
      "hello\n",
      "6   Transformed train set shape        (34153, 67)\n",
      "hello\n",
      "7    Transformed test set shape        (14637, 67)\n",
      "hello\n",
      "8              Ordinal features                  1\n",
      "hello\n",
      "9              Numeric features                  6\n",
      "hello\n",
      "10         Categorical features                  8\n",
      "hello\n",
      "11                   Preprocess               True\n",
      "hello\n",
      "12              Imputation type             simple\n",
      "hello\n",
      "13           Numeric imputation               mean\n",
      "hello\n",
      "14       Categorical imputation               mode\n",
      "hello\n",
      "15     Maximum one-hot encoding                 25\n",
      "hello\n",
      "16              Encoding method               None\n",
      "hello\n",
      "17               Fold Generator    StratifiedKFold\n",
      "hello\n",
      "18                  Fold Number                 10\n",
      "hello\n",
      "19                     CPU Jobs                 -1\n",
      "hello\n",
      "20                      Use GPU              False\n",
      "hello\n",
      "21               Log Experiment              False\n",
      "hello\n",
      "22              Experiment Name   clf-default-name\n",
      "hello\n",
      "23                          USI               78c3\n"
     ]
    },
    {
     "name": "stderr",
     "output_type": "stream",
     "text": [
      "                                                           \r"
     ]
    },
    {
     "name": "stdout",
     "output_type": "stream",
     "text": [
      "hello\n",
      "Model  Accuracy     AUC  Recall   Prec.      F1  \\\n",
      "hello\n",
      "ada      Ada Boost Classifier    0.8622  0.9171  0.6156  0.7636  0.6815\n",
      "hello\n",
      "lr        Logistic Regression    0.8519  0.9063  0.5994  0.7336  0.6596\n",
      "hello\n",
      "rf   Random Forest Classifier    0.8550  0.9049  0.6257  0.7305  0.6739\n",
      "hello\n",
      "nb                Naive Bayes    0.6843  0.8700  0.9019  0.4254  0.5780\n",
      "hello\n",
      "knn    K Neighbors Classifier    0.8253  0.8452  0.5734  0.6544  0.6111\n",
      "hello\n",
      "dt   Decision Tree Classifier    0.8159  0.7499  0.6233  0.6141  0.6185\n",
      "hello\n",
      "svm       SVM - Linear Kernel    0.8481  0.0000  0.5688  0.7397  0.6408\n",
      "hello\n",
      "\n",
      "hello\n",
      "Kappa     MCC  TT (Sec)\n",
      "hello\n",
      "ada  0.5949  0.6007     0.310\n",
      "hello\n",
      "lr   0.5662  0.5710     0.611\n",
      "hello\n",
      "rf   0.5814  0.5844     0.642\n",
      "hello\n",
      "nb   0.3743  0.4422     0.221\n",
      "hello\n",
      "knn  0.4991  0.5010     0.656\n",
      "hello\n",
      "dt   0.4973  0.4974     0.206\n",
      "hello\n",
      "svm  0.5469  0.5559     0.207\n"
     ]
    }
   ],
   "source": [
    "from tqdm.notebook import trange, tqdm\n",
    "import subprocess\n",
    "# import sys \n",
    "# sys.path.append('/home/ayush/BTP-2/backend/')\n",
    "# import trainModelAutoML\n",
    "process = subprocess.Popen(['python3', '/home/ayush/BTP-2/backend/functions/trainModelAutoML.py'], stdout=subprocess.PIPE)\n",
    "\n",
    "while True:\n",
    "    output = process.stdout.readline()\n",
    "    # print(output)\n",
    "    if output.decode('utf-8') == '' and process.poll() is not None:\n",
    "        break\n",
    "    if output:\n",
    "        print('hello')\n",
    "        print(output.strip().decode('utf-8'))\n",
    "        # print(\"hello\")\n",
    "        # sse.publish(output.strip().decode('utf-8'), type='output')"
   ]
  },
  {
   "cell_type": "code",
   "execution_count": 8,
   "metadata": {},
   "outputs": [
    {
     "name": "stdout",
     "output_type": "stream",
     "text": [
      "\n"
     ]
    }
   ],
   "source": [
    "print(capturedOutput)"
   ]
  },
  {
   "cell_type": "code",
   "execution_count": 5,
   "metadata": {},
   "outputs": [
    {
     "data": {
      "text/html": [],
      "text/plain": [
       "<IPython.core.display.HTML object>"
      ]
     },
     "metadata": {},
     "output_type": "display_data"
    },
    {
     "data": {
      "text/html": [],
      "text/plain": [
       "<IPython.core.display.HTML object>"
      ]
     },
     "metadata": {},
     "output_type": "display_data"
    },
    {
     "data": {
      "text/html": [],
      "text/plain": [
       "<IPython.core.display.HTML object>"
      ]
     },
     "metadata": {},
     "output_type": "display_data"
    }
   ],
   "source": [
    "get_leaderboard = exp.get_leaderboard()"
   ]
  },
  {
   "cell_type": "code",
   "execution_count": 6,
   "metadata": {},
   "outputs": [
    {
     "name": "stdout",
     "output_type": "stream",
     "text": [
      "Pipeline(memory=FastMemory(location=/tmp/joblib),\n",
      "         steps=[('label_encoding',\n",
      "                 TransformerWrapperWithInverse(exclude=None, include=None,\n",
      "                                               transformer=LabelEncoder())),\n",
      "                ('numerical_imputer',\n",
      "                 TransformerWrapper(exclude=None,\n",
      "                                    include=['age', 'fnlwgt', 'educational-num',\n",
      "                                             'capital-gain', 'capital-loss',\n",
      "                                             'hours-per-week'],\n",
      "                                    transformer=SimpleImputer(add_indicator=False,\n",
      "                                                              co...\n",
      "                                                              min_samples_leaf=20,\n",
      "                                                              return_df=True,\n",
      "                                                              smoothing=10,\n",
      "                                                              verbose=0))),\n",
      "                ('clean_column_names',\n",
      "                 TransformerWrapper(exclude=None, include=None,\n",
      "                                    transformer=CleanColumnNames(match='[\\\\]\\\\[\\\\,\\\\{\\\\}\\\\\"\\\\:]+'))),\n",
      "                ['trained_model',\n",
      "                 KNeighborsClassifier(algorithm='auto', leaf_size=30,\n",
      "                                      metric='minkowski', metric_params=None,\n",
      "                                      n_jobs=-1, n_neighbors=5, p=2,\n",
      "                                      weights='uniform')]],\n",
      "         verbose=False)\n"
     ]
    }
   ],
   "source": [
    "print(get_leaderboard.iloc[0]['Model'])"
   ]
  },
  {
   "cell_type": "code",
   "execution_count": 11,
   "metadata": {},
   "outputs": [
    {
     "data": {
      "application/vnd.jupyter.widget-view+json": {
       "model_id": "797535e997844369bf0982a3aece849a",
       "version_major": 2,
       "version_minor": 0
      },
      "text/plain": [
       "  0%|          | 0/4 [00:00<?, ?it/s]"
      ]
     },
     "metadata": {},
     "output_type": "display_data"
    }
   ],
   "source": [
    "\n",
    "from time import sleep\n",
    "\n",
    "text = \"\"\n",
    "for char in tqdm([\"a\", \"b\", \"c\", \"d\"]):\n",
    "    sleep(5)\n",
    "    text = text + char"
   ]
  },
  {
   "cell_type": "code",
   "execution_count": 7,
   "metadata": {},
   "outputs": [],
   "source": [
    "results = exp.pull()"
   ]
  },
  {
   "cell_type": "code",
   "execution_count": 8,
   "metadata": {},
   "outputs": [
    {
     "data": {
      "text/html": [
       "<div>\n",
       "<style scoped>\n",
       "    .dataframe tbody tr th:only-of-type {\n",
       "        vertical-align: middle;\n",
       "    }\n",
       "\n",
       "    .dataframe tbody tr th {\n",
       "        vertical-align: top;\n",
       "    }\n",
       "\n",
       "    .dataframe thead th {\n",
       "        text-align: right;\n",
       "    }\n",
       "</style>\n",
       "<table border=\"1\" class=\"dataframe\">\n",
       "  <thead>\n",
       "    <tr style=\"text-align: right;\">\n",
       "      <th></th>\n",
       "      <th>Model</th>\n",
       "      <th>Accuracy</th>\n",
       "      <th>AUC</th>\n",
       "      <th>Recall</th>\n",
       "      <th>Prec.</th>\n",
       "      <th>F1</th>\n",
       "      <th>Kappa</th>\n",
       "      <th>MCC</th>\n",
       "      <th>TT (Sec)</th>\n",
       "    </tr>\n",
       "  </thead>\n",
       "  <tbody>\n",
       "    <tr>\n",
       "      <th>lr</th>\n",
       "      <td>Logistic Regression</td>\n",
       "      <td>0.7984</td>\n",
       "      <td>0.6168</td>\n",
       "      <td>0.2711</td>\n",
       "      <td>0.7081</td>\n",
       "      <td>0.3906</td>\n",
       "      <td>0.2978</td>\n",
       "      <td>0.3479</td>\n",
       "      <td>0.761</td>\n",
       "    </tr>\n",
       "    <tr>\n",
       "      <th>knn</th>\n",
       "      <td>K Neighbors Classifier</td>\n",
       "      <td>0.7766</td>\n",
       "      <td>0.6766</td>\n",
       "      <td>0.3221</td>\n",
       "      <td>0.5577</td>\n",
       "      <td>0.4082</td>\n",
       "      <td>0.2825</td>\n",
       "      <td>0.2988</td>\n",
       "      <td>0.782</td>\n",
       "    </tr>\n",
       "  </tbody>\n",
       "</table>\n",
       "</div>"
      ],
      "text/plain": [
       "                      Model  Accuracy     AUC  Recall   Prec.      F1   Kappa  \\\n",
       "lr      Logistic Regression    0.7984  0.6168  0.2711  0.7081  0.3906  0.2978   \n",
       "knn  K Neighbors Classifier    0.7766  0.6766  0.3221  0.5577  0.4082  0.2825   \n",
       "\n",
       "        MCC  TT (Sec)  \n",
       "lr   0.3479     0.761  \n",
       "knn  0.2988     0.782  "
      ]
     },
     "execution_count": 8,
     "metadata": {},
     "output_type": "execute_result"
    }
   ],
   "source": [
    "results"
   ]
  },
  {
   "cell_type": "code",
   "execution_count": 9,
   "metadata": {},
   "outputs": [
    {
     "name": "stdout",
     "output_type": "stream",
     "text": [
      "Model\n",
      "Accuracy\n",
      "AUC\n",
      "Recall\n",
      "Prec.\n",
      "F1\n",
      "Kappa\n",
      "MCC\n",
      "TT (Sec)\n"
     ]
    }
   ],
   "source": [
    "for column in results.columns:\n",
    "    print(column)"
   ]
  },
  {
   "cell_type": "code",
   "execution_count": 38,
   "metadata": {},
   "outputs": [
    {
     "data": {
      "text/html": [
       "<div>\n",
       "<style scoped>\n",
       "    .dataframe tbody tr th:only-of-type {\n",
       "        vertical-align: middle;\n",
       "    }\n",
       "\n",
       "    .dataframe tbody tr th {\n",
       "        vertical-align: top;\n",
       "    }\n",
       "\n",
       "    .dataframe thead th {\n",
       "        text-align: right;\n",
       "    }\n",
       "</style>\n",
       "<table border=\"1\" class=\"dataframe\">\n",
       "  <thead>\n",
       "    <tr style=\"text-align: right;\">\n",
       "      <th></th>\n",
       "      <th>Accuracy</th>\n",
       "      <th>AUC</th>\n",
       "      <th>Recall</th>\n",
       "      <th>Prec.</th>\n",
       "      <th>F1</th>\n",
       "      <th>Kappa</th>\n",
       "      <th>MCC</th>\n",
       "    </tr>\n",
       "    <tr>\n",
       "      <th>Fold</th>\n",
       "      <th></th>\n",
       "      <th></th>\n",
       "      <th></th>\n",
       "      <th></th>\n",
       "      <th></th>\n",
       "      <th></th>\n",
       "      <th></th>\n",
       "    </tr>\n",
       "  </thead>\n",
       "  <tbody>\n",
       "    <tr>\n",
       "      <th>Mean</th>\n",
       "      <td>0.7984</td>\n",
       "      <td>0.6168</td>\n",
       "      <td>0.2711</td>\n",
       "      <td>0.7081</td>\n",
       "      <td>0.3906</td>\n",
       "      <td>0.2978</td>\n",
       "      <td>0.3479</td>\n",
       "    </tr>\n",
       "  </tbody>\n",
       "</table>\n",
       "</div>"
      ],
      "text/plain": [
       "      Accuracy     AUC  Recall   Prec.      F1   Kappa     MCC\n",
       "Fold                                                          \n",
       "Mean    0.7984  0.6168  0.2711  0.7081  0.3906  0.2978  0.3479"
      ]
     },
     "execution_count": 38,
     "metadata": {},
     "output_type": "execute_result"
    }
   ],
   "source": [
    "results[results.index == 'Mean']"
   ]
  },
  {
   "cell_type": "code",
   "execution_count": 37,
   "metadata": {},
   "outputs": [
    {
     "name": "stdout",
     "output_type": "stream",
     "text": [
      "0.7984\n",
      "0.6168\n",
      "0.2711\n",
      "0.7081\n",
      "0.3906\n",
      "0.2978\n",
      "0.3479\n"
     ]
    }
   ],
   "source": [
    "for metric in results.columns:\n",
    "    print(results[results.index == 'Mean'][metric].values[0])"
   ]
  },
  {
   "cell_type": "code",
   "execution_count": 12,
   "metadata": {},
   "outputs": [],
   "source": [
    "results.drop(['TT (Sec)','Kappa', 'MCC'], axis=1, inplace=True)"
   ]
  },
  {
   "cell_type": "code",
   "execution_count": 13,
   "metadata": {},
   "outputs": [
    {
     "data": {
      "text/html": [
       "<div>\n",
       "<style scoped>\n",
       "    .dataframe tbody tr th:only-of-type {\n",
       "        vertical-align: middle;\n",
       "    }\n",
       "\n",
       "    .dataframe tbody tr th {\n",
       "        vertical-align: top;\n",
       "    }\n",
       "\n",
       "    .dataframe thead th {\n",
       "        text-align: right;\n",
       "    }\n",
       "</style>\n",
       "<table border=\"1\" class=\"dataframe\">\n",
       "  <thead>\n",
       "    <tr style=\"text-align: right;\">\n",
       "      <th></th>\n",
       "      <th>Model</th>\n",
       "      <th>Accuracy</th>\n",
       "      <th>AUC</th>\n",
       "      <th>Recall</th>\n",
       "      <th>Prec.</th>\n",
       "      <th>F1</th>\n",
       "    </tr>\n",
       "  </thead>\n",
       "  <tbody>\n",
       "    <tr>\n",
       "      <th>rf</th>\n",
       "      <td>Random Forest Classifier</td>\n",
       "      <td>0.8569</td>\n",
       "      <td>0.9040</td>\n",
       "      <td>0.6199</td>\n",
       "      <td>0.7401</td>\n",
       "      <td>0.6745</td>\n",
       "    </tr>\n",
       "    <tr>\n",
       "      <th>lr</th>\n",
       "      <td>Logistic Regression</td>\n",
       "      <td>0.7984</td>\n",
       "      <td>0.6168</td>\n",
       "      <td>0.2711</td>\n",
       "      <td>0.7081</td>\n",
       "      <td>0.3906</td>\n",
       "    </tr>\n",
       "  </tbody>\n",
       "</table>\n",
       "</div>"
      ],
      "text/plain": [
       "                       Model  Accuracy     AUC  Recall   Prec.      F1\n",
       "rf  Random Forest Classifier    0.8569  0.9040  0.6199  0.7401  0.6745\n",
       "lr       Logistic Regression    0.7984  0.6168  0.2711  0.7081  0.3906"
      ]
     },
     "execution_count": 13,
     "metadata": {},
     "output_type": "execute_result"
    }
   ],
   "source": [
    "results"
   ]
  },
  {
   "cell_type": "code",
   "execution_count": 21,
   "metadata": {},
   "outputs": [
    {
     "name": "stdout",
     "output_type": "stream",
     "text": [
      "Accuracy\n",
      "0.8569\n",
      "AUC\n",
      "0.904\n",
      "Recall\n",
      "0.6199\n",
      "Prec.\n",
      "0.7401\n",
      "F1\n",
      "0.6745\n"
     ]
    }
   ],
   "source": [
    "for metric in results.columns:\n",
    "    # print first row's metric\n",
    "    if metric == 'Model':\n",
    "        continue\n",
    "    print(metric)\n",
    "    print(results.iloc[0][metric])"
   ]
  },
  {
   "cell_type": "code",
   "execution_count": null,
   "metadata": {},
   "outputs": [],
   "source": []
  }
 ],
 "metadata": {
  "kernelspec": {
   "display_name": "Python 3",
   "language": "python",
   "name": "python3"
  },
  "language_info": {
   "codemirror_mode": {
    "name": "ipython",
    "version": 3
   },
   "file_extension": ".py",
   "mimetype": "text/x-python",
   "name": "python",
   "nbconvert_exporter": "python",
   "pygments_lexer": "ipython3",
   "version": "3.10.6"
  },
  "orig_nbformat": 4
 },
 "nbformat": 4,
 "nbformat_minor": 2
}
