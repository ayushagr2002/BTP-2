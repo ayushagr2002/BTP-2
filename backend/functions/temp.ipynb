{
 "cells": [
  {
   "cell_type": "code",
   "execution_count": 1,
   "metadata": {},
   "outputs": [],
   "source": [
    "from pycaret.regression import RegressionExperiment\n",
    "from pycaret.classification import ClassificationExperiment\n",
    "import pandas as pd\n",
    "from tqdm import tqdm"
   ]
  },
  {
   "cell_type": "code",
   "execution_count": 2,
   "metadata": {},
   "outputs": [],
   "source": [
    "data = pd.read_csv('../Datasets/adult.csv')\n",
    "target_column = 'income'\n",
    "model_name = 'adult'\n",
    "exp = ClassificationExperiment()"
   ]
  },
  {
   "cell_type": "code",
   "execution_count": 3,
   "metadata": {},
   "outputs": [
    {
     "data": {
      "text/html": [
       "<style type=\"text/css\">\n",
       "#T_ea886_row11_col1 {\n",
       "  background-color: lightgreen;\n",
       "}\n",
       "</style>\n",
       "<table id=\"T_ea886\">\n",
       "  <thead>\n",
       "    <tr>\n",
       "      <th class=\"blank level0\" >&nbsp;</th>\n",
       "      <th id=\"T_ea886_level0_col0\" class=\"col_heading level0 col0\" >Description</th>\n",
       "      <th id=\"T_ea886_level0_col1\" class=\"col_heading level0 col1\" >Value</th>\n",
       "    </tr>\n",
       "  </thead>\n",
       "  <tbody>\n",
       "    <tr>\n",
       "      <th id=\"T_ea886_level0_row0\" class=\"row_heading level0 row0\" >0</th>\n",
       "      <td id=\"T_ea886_row0_col0\" class=\"data row0 col0\" >Session id</td>\n",
       "      <td id=\"T_ea886_row0_col1\" class=\"data row0 col1\" >123</td>\n",
       "    </tr>\n",
       "    <tr>\n",
       "      <th id=\"T_ea886_level0_row1\" class=\"row_heading level0 row1\" >1</th>\n",
       "      <td id=\"T_ea886_row1_col0\" class=\"data row1 col0\" >Target</td>\n",
       "      <td id=\"T_ea886_row1_col1\" class=\"data row1 col1\" >income</td>\n",
       "    </tr>\n",
       "    <tr>\n",
       "      <th id=\"T_ea886_level0_row2\" class=\"row_heading level0 row2\" >2</th>\n",
       "      <td id=\"T_ea886_row2_col0\" class=\"data row2 col0\" >Target type</td>\n",
       "      <td id=\"T_ea886_row2_col1\" class=\"data row2 col1\" >Binary</td>\n",
       "    </tr>\n",
       "    <tr>\n",
       "      <th id=\"T_ea886_level0_row3\" class=\"row_heading level0 row3\" >3</th>\n",
       "      <td id=\"T_ea886_row3_col0\" class=\"data row3 col0\" >Target mapping</td>\n",
       "      <td id=\"T_ea886_row3_col1\" class=\"data row3 col1\" ><=50K: 0, >50K: 1</td>\n",
       "    </tr>\n",
       "    <tr>\n",
       "      <th id=\"T_ea886_level0_row4\" class=\"row_heading level0 row4\" >4</th>\n",
       "      <td id=\"T_ea886_row4_col0\" class=\"data row4 col0\" >Original data shape</td>\n",
       "      <td id=\"T_ea886_row4_col1\" class=\"data row4 col1\" >(48842, 15)</td>\n",
       "    </tr>\n",
       "    <tr>\n",
       "      <th id=\"T_ea886_level0_row5\" class=\"row_heading level0 row5\" >5</th>\n",
       "      <td id=\"T_ea886_row5_col0\" class=\"data row5 col0\" >Transformed data shape</td>\n",
       "      <td id=\"T_ea886_row5_col1\" class=\"data row5 col1\" >(48842, 67)</td>\n",
       "    </tr>\n",
       "    <tr>\n",
       "      <th id=\"T_ea886_level0_row6\" class=\"row_heading level0 row6\" >6</th>\n",
       "      <td id=\"T_ea886_row6_col0\" class=\"data row6 col0\" >Transformed train set shape</td>\n",
       "      <td id=\"T_ea886_row6_col1\" class=\"data row6 col1\" >(34189, 67)</td>\n",
       "    </tr>\n",
       "    <tr>\n",
       "      <th id=\"T_ea886_level0_row7\" class=\"row_heading level0 row7\" >7</th>\n",
       "      <td id=\"T_ea886_row7_col0\" class=\"data row7 col0\" >Transformed test set shape</td>\n",
       "      <td id=\"T_ea886_row7_col1\" class=\"data row7 col1\" >(14653, 67)</td>\n",
       "    </tr>\n",
       "    <tr>\n",
       "      <th id=\"T_ea886_level0_row8\" class=\"row_heading level0 row8\" >8</th>\n",
       "      <td id=\"T_ea886_row8_col0\" class=\"data row8 col0\" >Ordinal features</td>\n",
       "      <td id=\"T_ea886_row8_col1\" class=\"data row8 col1\" >1</td>\n",
       "    </tr>\n",
       "    <tr>\n",
       "      <th id=\"T_ea886_level0_row9\" class=\"row_heading level0 row9\" >9</th>\n",
       "      <td id=\"T_ea886_row9_col0\" class=\"data row9 col0\" >Numeric features</td>\n",
       "      <td id=\"T_ea886_row9_col1\" class=\"data row9 col1\" >6</td>\n",
       "    </tr>\n",
       "    <tr>\n",
       "      <th id=\"T_ea886_level0_row10\" class=\"row_heading level0 row10\" >10</th>\n",
       "      <td id=\"T_ea886_row10_col0\" class=\"data row10 col0\" >Categorical features</td>\n",
       "      <td id=\"T_ea886_row10_col1\" class=\"data row10 col1\" >8</td>\n",
       "    </tr>\n",
       "    <tr>\n",
       "      <th id=\"T_ea886_level0_row11\" class=\"row_heading level0 row11\" >11</th>\n",
       "      <td id=\"T_ea886_row11_col0\" class=\"data row11 col0\" >Preprocess</td>\n",
       "      <td id=\"T_ea886_row11_col1\" class=\"data row11 col1\" >True</td>\n",
       "    </tr>\n",
       "    <tr>\n",
       "      <th id=\"T_ea886_level0_row12\" class=\"row_heading level0 row12\" >12</th>\n",
       "      <td id=\"T_ea886_row12_col0\" class=\"data row12 col0\" >Imputation type</td>\n",
       "      <td id=\"T_ea886_row12_col1\" class=\"data row12 col1\" >simple</td>\n",
       "    </tr>\n",
       "    <tr>\n",
       "      <th id=\"T_ea886_level0_row13\" class=\"row_heading level0 row13\" >13</th>\n",
       "      <td id=\"T_ea886_row13_col0\" class=\"data row13 col0\" >Numeric imputation</td>\n",
       "      <td id=\"T_ea886_row13_col1\" class=\"data row13 col1\" >mean</td>\n",
       "    </tr>\n",
       "    <tr>\n",
       "      <th id=\"T_ea886_level0_row14\" class=\"row_heading level0 row14\" >14</th>\n",
       "      <td id=\"T_ea886_row14_col0\" class=\"data row14 col0\" >Categorical imputation</td>\n",
       "      <td id=\"T_ea886_row14_col1\" class=\"data row14 col1\" >mode</td>\n",
       "    </tr>\n",
       "    <tr>\n",
       "      <th id=\"T_ea886_level0_row15\" class=\"row_heading level0 row15\" >15</th>\n",
       "      <td id=\"T_ea886_row15_col0\" class=\"data row15 col0\" >Maximum one-hot encoding</td>\n",
       "      <td id=\"T_ea886_row15_col1\" class=\"data row15 col1\" >25</td>\n",
       "    </tr>\n",
       "    <tr>\n",
       "      <th id=\"T_ea886_level0_row16\" class=\"row_heading level0 row16\" >16</th>\n",
       "      <td id=\"T_ea886_row16_col0\" class=\"data row16 col0\" >Encoding method</td>\n",
       "      <td id=\"T_ea886_row16_col1\" class=\"data row16 col1\" >None</td>\n",
       "    </tr>\n",
       "    <tr>\n",
       "      <th id=\"T_ea886_level0_row17\" class=\"row_heading level0 row17\" >17</th>\n",
       "      <td id=\"T_ea886_row17_col0\" class=\"data row17 col0\" >Fold Generator</td>\n",
       "      <td id=\"T_ea886_row17_col1\" class=\"data row17 col1\" >StratifiedKFold</td>\n",
       "    </tr>\n",
       "    <tr>\n",
       "      <th id=\"T_ea886_level0_row18\" class=\"row_heading level0 row18\" >18</th>\n",
       "      <td id=\"T_ea886_row18_col0\" class=\"data row18 col0\" >Fold Number</td>\n",
       "      <td id=\"T_ea886_row18_col1\" class=\"data row18 col1\" >10</td>\n",
       "    </tr>\n",
       "    <tr>\n",
       "      <th id=\"T_ea886_level0_row19\" class=\"row_heading level0 row19\" >19</th>\n",
       "      <td id=\"T_ea886_row19_col0\" class=\"data row19 col0\" >CPU Jobs</td>\n",
       "      <td id=\"T_ea886_row19_col1\" class=\"data row19 col1\" >-1</td>\n",
       "    </tr>\n",
       "    <tr>\n",
       "      <th id=\"T_ea886_level0_row20\" class=\"row_heading level0 row20\" >20</th>\n",
       "      <td id=\"T_ea886_row20_col0\" class=\"data row20 col0\" >Use GPU</td>\n",
       "      <td id=\"T_ea886_row20_col1\" class=\"data row20 col1\" >False</td>\n",
       "    </tr>\n",
       "    <tr>\n",
       "      <th id=\"T_ea886_level0_row21\" class=\"row_heading level0 row21\" >21</th>\n",
       "      <td id=\"T_ea886_row21_col0\" class=\"data row21 col0\" >Log Experiment</td>\n",
       "      <td id=\"T_ea886_row21_col1\" class=\"data row21 col1\" >False</td>\n",
       "    </tr>\n",
       "    <tr>\n",
       "      <th id=\"T_ea886_level0_row22\" class=\"row_heading level0 row22\" >22</th>\n",
       "      <td id=\"T_ea886_row22_col0\" class=\"data row22 col0\" >Experiment Name</td>\n",
       "      <td id=\"T_ea886_row22_col1\" class=\"data row22 col1\" >clf-default-name</td>\n",
       "    </tr>\n",
       "    <tr>\n",
       "      <th id=\"T_ea886_level0_row23\" class=\"row_heading level0 row23\" >23</th>\n",
       "      <td id=\"T_ea886_row23_col0\" class=\"data row23 col0\" >USI</td>\n",
       "      <td id=\"T_ea886_row23_col1\" class=\"data row23 col1\" >25e6</td>\n",
       "    </tr>\n",
       "  </tbody>\n",
       "</table>\n"
      ],
      "text/plain": [
       "<pandas.io.formats.style.Styler at 0x7f403622de40>"
      ]
     },
     "metadata": {},
     "output_type": "display_data"
    },
    {
     "data": {
      "text/plain": [
       "<pycaret.classification.oop.ClassificationExperiment at 0x7f4094190dc0>"
      ]
     },
     "execution_count": 3,
     "metadata": {},
     "output_type": "execute_result"
    }
   ],
   "source": [
    "exp.setup(data, target=target_column, session_id=123)"
   ]
  },
  {
   "cell_type": "code",
   "execution_count": 19,
   "metadata": {},
   "outputs": [
    {
     "data": {
      "text/html": [],
      "text/plain": [
       "<IPython.core.display.HTML object>"
      ]
     },
     "metadata": {},
     "output_type": "display_data"
    },
    {
     "data": {
      "text/html": [
       "<style type=\"text/css\">\n",
       "#T_85b07 th {\n",
       "  text-align: left;\n",
       "}\n",
       "#T_85b07_row0_col0, #T_85b07_row0_col2, #T_85b07_row0_col3, #T_85b07_row0_col5, #T_85b07_row1_col0, #T_85b07_row1_col1, #T_85b07_row1_col4, #T_85b07_row1_col6, #T_85b07_row1_col7 {\n",
       "  text-align: left;\n",
       "}\n",
       "#T_85b07_row0_col1, #T_85b07_row0_col4, #T_85b07_row0_col6, #T_85b07_row0_col7, #T_85b07_row1_col2, #T_85b07_row1_col3, #T_85b07_row1_col5 {\n",
       "  text-align: left;\n",
       "  background-color: yellow;\n",
       "}\n",
       "#T_85b07_row0_col8 {\n",
       "  text-align: left;\n",
       "  background-color: yellow;\n",
       "  background-color: lightgrey;\n",
       "}\n",
       "#T_85b07_row1_col8 {\n",
       "  text-align: left;\n",
       "  background-color: lightgrey;\n",
       "}\n",
       "</style>\n",
       "<table id=\"T_85b07\">\n",
       "  <thead>\n",
       "    <tr>\n",
       "      <th class=\"blank level0\" >&nbsp;</th>\n",
       "      <th id=\"T_85b07_level0_col0\" class=\"col_heading level0 col0\" >Model</th>\n",
       "      <th id=\"T_85b07_level0_col1\" class=\"col_heading level0 col1\" >Accuracy</th>\n",
       "      <th id=\"T_85b07_level0_col2\" class=\"col_heading level0 col2\" >AUC</th>\n",
       "      <th id=\"T_85b07_level0_col3\" class=\"col_heading level0 col3\" >Recall</th>\n",
       "      <th id=\"T_85b07_level0_col4\" class=\"col_heading level0 col4\" >Prec.</th>\n",
       "      <th id=\"T_85b07_level0_col5\" class=\"col_heading level0 col5\" >F1</th>\n",
       "      <th id=\"T_85b07_level0_col6\" class=\"col_heading level0 col6\" >Kappa</th>\n",
       "      <th id=\"T_85b07_level0_col7\" class=\"col_heading level0 col7\" >MCC</th>\n",
       "      <th id=\"T_85b07_level0_col8\" class=\"col_heading level0 col8\" >TT (Sec)</th>\n",
       "    </tr>\n",
       "  </thead>\n",
       "  <tbody>\n",
       "    <tr>\n",
       "      <th id=\"T_85b07_level0_row0\" class=\"row_heading level0 row0\" >lr</th>\n",
       "      <td id=\"T_85b07_row0_col0\" class=\"data row0 col0\" >Logistic Regression</td>\n",
       "      <td id=\"T_85b07_row0_col1\" class=\"data row0 col1\" >0.7984</td>\n",
       "      <td id=\"T_85b07_row0_col2\" class=\"data row0 col2\" >0.6168</td>\n",
       "      <td id=\"T_85b07_row0_col3\" class=\"data row0 col3\" >0.2711</td>\n",
       "      <td id=\"T_85b07_row0_col4\" class=\"data row0 col4\" >0.7081</td>\n",
       "      <td id=\"T_85b07_row0_col5\" class=\"data row0 col5\" >0.3906</td>\n",
       "      <td id=\"T_85b07_row0_col6\" class=\"data row0 col6\" >0.2978</td>\n",
       "      <td id=\"T_85b07_row0_col7\" class=\"data row0 col7\" >0.3479</td>\n",
       "      <td id=\"T_85b07_row0_col8\" class=\"data row0 col8\" >0.1850</td>\n",
       "    </tr>\n",
       "    <tr>\n",
       "      <th id=\"T_85b07_level0_row1\" class=\"row_heading level0 row1\" >knn</th>\n",
       "      <td id=\"T_85b07_row1_col0\" class=\"data row1 col0\" >K Neighbors Classifier</td>\n",
       "      <td id=\"T_85b07_row1_col1\" class=\"data row1 col1\" >0.7766</td>\n",
       "      <td id=\"T_85b07_row1_col2\" class=\"data row1 col2\" >0.6766</td>\n",
       "      <td id=\"T_85b07_row1_col3\" class=\"data row1 col3\" >0.3221</td>\n",
       "      <td id=\"T_85b07_row1_col4\" class=\"data row1 col4\" >0.5577</td>\n",
       "      <td id=\"T_85b07_row1_col5\" class=\"data row1 col5\" >0.4082</td>\n",
       "      <td id=\"T_85b07_row1_col6\" class=\"data row1 col6\" >0.2825</td>\n",
       "      <td id=\"T_85b07_row1_col7\" class=\"data row1 col7\" >0.2988</td>\n",
       "      <td id=\"T_85b07_row1_col8\" class=\"data row1 col8\" >0.6910</td>\n",
       "    </tr>\n",
       "  </tbody>\n",
       "</table>\n"
      ],
      "text/plain": [
       "<pandas.io.formats.style.Styler at 0x7f4036379240>"
      ]
     },
     "metadata": {},
     "output_type": "display_data"
    },
    {
     "data": {
      "text/html": [],
      "text/plain": [
       "<IPython.core.display.HTML object>"
      ]
     },
     "metadata": {},
     "output_type": "display_data"
    }
   ],
   "source": [
    "from tqdm.notebook import trange, tqdm\n",
    "model = exp.compare_models(include=['knn', 'lr'], sort='Prec.')"
   ]
  },
  {
   "cell_type": "code",
   "execution_count": 15,
   "metadata": {},
   "outputs": [
    {
     "name": "stdout",
     "output_type": "stream",
     "text": [
      "0it [00:04, ?it/s]\n"
     ]
    }
   ],
   "source": [
    "print(model)"
   ]
  },
  {
   "cell_type": "code",
   "execution_count": 11,
   "metadata": {},
   "outputs": [
    {
     "data": {
      "application/vnd.jupyter.widget-view+json": {
       "model_id": "797535e997844369bf0982a3aece849a",
       "version_major": 2,
       "version_minor": 0
      },
      "text/plain": [
       "  0%|          | 0/4 [00:00<?, ?it/s]"
      ]
     },
     "metadata": {},
     "output_type": "display_data"
    }
   ],
   "source": [
    "\n",
    "from time import sleep\n",
    "\n",
    "text = \"\"\n",
    "for char in tqdm([\"a\", \"b\", \"c\", \"d\"]):\n",
    "    sleep(5)\n",
    "    text = text + char"
   ]
  },
  {
   "cell_type": "code",
   "execution_count": 7,
   "metadata": {},
   "outputs": [],
   "source": [
    "results = exp.pull()"
   ]
  },
  {
   "cell_type": "code",
   "execution_count": 8,
   "metadata": {},
   "outputs": [
    {
     "data": {
      "text/html": [
       "<div>\n",
       "<style scoped>\n",
       "    .dataframe tbody tr th:only-of-type {\n",
       "        vertical-align: middle;\n",
       "    }\n",
       "\n",
       "    .dataframe tbody tr th {\n",
       "        vertical-align: top;\n",
       "    }\n",
       "\n",
       "    .dataframe thead th {\n",
       "        text-align: right;\n",
       "    }\n",
       "</style>\n",
       "<table border=\"1\" class=\"dataframe\">\n",
       "  <thead>\n",
       "    <tr style=\"text-align: right;\">\n",
       "      <th></th>\n",
       "      <th>Model</th>\n",
       "      <th>Accuracy</th>\n",
       "      <th>AUC</th>\n",
       "      <th>Recall</th>\n",
       "      <th>Prec.</th>\n",
       "      <th>F1</th>\n",
       "      <th>Kappa</th>\n",
       "      <th>MCC</th>\n",
       "      <th>TT (Sec)</th>\n",
       "    </tr>\n",
       "  </thead>\n",
       "  <tbody>\n",
       "    <tr>\n",
       "      <th>lr</th>\n",
       "      <td>Logistic Regression</td>\n",
       "      <td>0.7984</td>\n",
       "      <td>0.6168</td>\n",
       "      <td>0.2711</td>\n",
       "      <td>0.7081</td>\n",
       "      <td>0.3906</td>\n",
       "      <td>0.2978</td>\n",
       "      <td>0.3479</td>\n",
       "      <td>0.761</td>\n",
       "    </tr>\n",
       "    <tr>\n",
       "      <th>knn</th>\n",
       "      <td>K Neighbors Classifier</td>\n",
       "      <td>0.7766</td>\n",
       "      <td>0.6766</td>\n",
       "      <td>0.3221</td>\n",
       "      <td>0.5577</td>\n",
       "      <td>0.4082</td>\n",
       "      <td>0.2825</td>\n",
       "      <td>0.2988</td>\n",
       "      <td>0.782</td>\n",
       "    </tr>\n",
       "  </tbody>\n",
       "</table>\n",
       "</div>"
      ],
      "text/plain": [
       "                      Model  Accuracy     AUC  Recall   Prec.      F1   Kappa  \\\n",
       "lr      Logistic Regression    0.7984  0.6168  0.2711  0.7081  0.3906  0.2978   \n",
       "knn  K Neighbors Classifier    0.7766  0.6766  0.3221  0.5577  0.4082  0.2825   \n",
       "\n",
       "        MCC  TT (Sec)  \n",
       "lr   0.3479     0.761  \n",
       "knn  0.2988     0.782  "
      ]
     },
     "execution_count": 8,
     "metadata": {},
     "output_type": "execute_result"
    }
   ],
   "source": [
    "results"
   ]
  },
  {
   "cell_type": "code",
   "execution_count": 9,
   "metadata": {},
   "outputs": [
    {
     "name": "stdout",
     "output_type": "stream",
     "text": [
      "Model\n",
      "Accuracy\n",
      "AUC\n",
      "Recall\n",
      "Prec.\n",
      "F1\n",
      "Kappa\n",
      "MCC\n",
      "TT (Sec)\n"
     ]
    }
   ],
   "source": [
    "for column in results.columns:\n",
    "    print(column)"
   ]
  },
  {
   "cell_type": "code",
   "execution_count": 38,
   "metadata": {},
   "outputs": [
    {
     "data": {
      "text/html": [
       "<div>\n",
       "<style scoped>\n",
       "    .dataframe tbody tr th:only-of-type {\n",
       "        vertical-align: middle;\n",
       "    }\n",
       "\n",
       "    .dataframe tbody tr th {\n",
       "        vertical-align: top;\n",
       "    }\n",
       "\n",
       "    .dataframe thead th {\n",
       "        text-align: right;\n",
       "    }\n",
       "</style>\n",
       "<table border=\"1\" class=\"dataframe\">\n",
       "  <thead>\n",
       "    <tr style=\"text-align: right;\">\n",
       "      <th></th>\n",
       "      <th>Accuracy</th>\n",
       "      <th>AUC</th>\n",
       "      <th>Recall</th>\n",
       "      <th>Prec.</th>\n",
       "      <th>F1</th>\n",
       "      <th>Kappa</th>\n",
       "      <th>MCC</th>\n",
       "    </tr>\n",
       "    <tr>\n",
       "      <th>Fold</th>\n",
       "      <th></th>\n",
       "      <th></th>\n",
       "      <th></th>\n",
       "      <th></th>\n",
       "      <th></th>\n",
       "      <th></th>\n",
       "      <th></th>\n",
       "    </tr>\n",
       "  </thead>\n",
       "  <tbody>\n",
       "    <tr>\n",
       "      <th>Mean</th>\n",
       "      <td>0.7984</td>\n",
       "      <td>0.6168</td>\n",
       "      <td>0.2711</td>\n",
       "      <td>0.7081</td>\n",
       "      <td>0.3906</td>\n",
       "      <td>0.2978</td>\n",
       "      <td>0.3479</td>\n",
       "    </tr>\n",
       "  </tbody>\n",
       "</table>\n",
       "</div>"
      ],
      "text/plain": [
       "      Accuracy     AUC  Recall   Prec.      F1   Kappa     MCC\n",
       "Fold                                                          \n",
       "Mean    0.7984  0.6168  0.2711  0.7081  0.3906  0.2978  0.3479"
      ]
     },
     "execution_count": 38,
     "metadata": {},
     "output_type": "execute_result"
    }
   ],
   "source": [
    "results[results.index == 'Mean']"
   ]
  },
  {
   "cell_type": "code",
   "execution_count": 37,
   "metadata": {},
   "outputs": [
    {
     "name": "stdout",
     "output_type": "stream",
     "text": [
      "0.7984\n",
      "0.6168\n",
      "0.2711\n",
      "0.7081\n",
      "0.3906\n",
      "0.2978\n",
      "0.3479\n"
     ]
    }
   ],
   "source": [
    "for metric in results.columns:\n",
    "    print(results[results.index == 'Mean'][metric].values[0])"
   ]
  },
  {
   "cell_type": "code",
   "execution_count": 12,
   "metadata": {},
   "outputs": [],
   "source": [
    "results.drop(['TT (Sec)','Kappa', 'MCC'], axis=1, inplace=True)"
   ]
  },
  {
   "cell_type": "code",
   "execution_count": 13,
   "metadata": {},
   "outputs": [
    {
     "data": {
      "text/html": [
       "<div>\n",
       "<style scoped>\n",
       "    .dataframe tbody tr th:only-of-type {\n",
       "        vertical-align: middle;\n",
       "    }\n",
       "\n",
       "    .dataframe tbody tr th {\n",
       "        vertical-align: top;\n",
       "    }\n",
       "\n",
       "    .dataframe thead th {\n",
       "        text-align: right;\n",
       "    }\n",
       "</style>\n",
       "<table border=\"1\" class=\"dataframe\">\n",
       "  <thead>\n",
       "    <tr style=\"text-align: right;\">\n",
       "      <th></th>\n",
       "      <th>Model</th>\n",
       "      <th>Accuracy</th>\n",
       "      <th>AUC</th>\n",
       "      <th>Recall</th>\n",
       "      <th>Prec.</th>\n",
       "      <th>F1</th>\n",
       "    </tr>\n",
       "  </thead>\n",
       "  <tbody>\n",
       "    <tr>\n",
       "      <th>rf</th>\n",
       "      <td>Random Forest Classifier</td>\n",
       "      <td>0.8569</td>\n",
       "      <td>0.9040</td>\n",
       "      <td>0.6199</td>\n",
       "      <td>0.7401</td>\n",
       "      <td>0.6745</td>\n",
       "    </tr>\n",
       "    <tr>\n",
       "      <th>lr</th>\n",
       "      <td>Logistic Regression</td>\n",
       "      <td>0.7984</td>\n",
       "      <td>0.6168</td>\n",
       "      <td>0.2711</td>\n",
       "      <td>0.7081</td>\n",
       "      <td>0.3906</td>\n",
       "    </tr>\n",
       "  </tbody>\n",
       "</table>\n",
       "</div>"
      ],
      "text/plain": [
       "                       Model  Accuracy     AUC  Recall   Prec.      F1\n",
       "rf  Random Forest Classifier    0.8569  0.9040  0.6199  0.7401  0.6745\n",
       "lr       Logistic Regression    0.7984  0.6168  0.2711  0.7081  0.3906"
      ]
     },
     "execution_count": 13,
     "metadata": {},
     "output_type": "execute_result"
    }
   ],
   "source": [
    "results"
   ]
  },
  {
   "cell_type": "code",
   "execution_count": 21,
   "metadata": {},
   "outputs": [
    {
     "name": "stdout",
     "output_type": "stream",
     "text": [
      "Accuracy\n",
      "0.8569\n",
      "AUC\n",
      "0.904\n",
      "Recall\n",
      "0.6199\n",
      "Prec.\n",
      "0.7401\n",
      "F1\n",
      "0.6745\n"
     ]
    }
   ],
   "source": [
    "for metric in results.columns:\n",
    "    # print first row's metric\n",
    "    if metric == 'Model':\n",
    "        continue\n",
    "    print(metric)\n",
    "    print(results.iloc[0][metric])"
   ]
  },
  {
   "cell_type": "code",
   "execution_count": null,
   "metadata": {},
   "outputs": [],
   "source": []
  }
 ],
 "metadata": {
  "kernelspec": {
   "display_name": "Python 3",
   "language": "python",
   "name": "python3"
  },
  "language_info": {
   "codemirror_mode": {
    "name": "ipython",
    "version": 3
   },
   "file_extension": ".py",
   "mimetype": "text/x-python",
   "name": "python",
   "nbconvert_exporter": "python",
   "pygments_lexer": "ipython3",
   "version": "3.10.12"
  },
  "orig_nbformat": 4
 },
 "nbformat": 4,
 "nbformat_minor": 2
}
